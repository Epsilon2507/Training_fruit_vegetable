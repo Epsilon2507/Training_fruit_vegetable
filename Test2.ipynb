import tensorflow as tf
from tensorflow.keras.models import Sequential
from tensorflow.keras.layers import Dense
import numpy as np

# Dummy data for illustration purposes
training_data = np.random.random((1000, 32))
training_labels = np.random.randint(2, size=(1000, 1))
validation_data = np.random.random((200, 32))
validation_labels = np.random.randint(2, size=(200, 1))

# Creating tf.data.Dataset objects
training_set = tf.data.Dataset.from_tensor_slices((training_data, training_labels)).batch(32)
validation_set = tf.data.Dataset.from_tensor_slices((validation_data, validation_labels)).batch(32)

# Model definition
cnn = Sequential([
    Dense(64, activation='relu', input_shape=(32,)),
    Dense(1, activation='sigmoid')
])

cnn.compile(optimizer='adam', loss='binary_crossentropy', metrics=['accuracy'])

# Training
training_history = cnn.fit(training_set, validation_data=validation_set, epochs=32)
